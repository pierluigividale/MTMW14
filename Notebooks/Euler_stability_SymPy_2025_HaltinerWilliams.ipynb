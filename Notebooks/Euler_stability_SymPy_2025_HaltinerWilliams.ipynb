{
 "cells": [
  {
   "cell_type": "markdown",
   "id": "6f682825",
   "metadata": {},
   "source": [
    "## For the numerical solutions, analysis by hand is fine for Euler, but for more complex schemes it is easier to adopt symbolic computatation with SimPy"
   ]
  },
  {
   "cell_type": "code",
   "execution_count": 149,
   "id": "6d22d8f4",
   "metadata": {},
   "outputs": [],
   "source": [
    "from IPython.display import display, Latex, Math\n",
    "import sympy\n",
    "from sympy import *\n",
    "from sympy.matrices import Matrix\n",
    "init_printing(use_latex='mathjax')"
   ]
  },
  {
   "cell_type": "code",
   "execution_count": 191,
   "id": "dbfd6ec5-951e-4511-89c3-c9ad1412b4c2",
   "metadata": {},
   "outputs": [
    {
     "data": {
      "text/latex": [
       "$\\displaystyle A: \\left[\\begin{matrix}2 i Δt κ & 1\\\\1 & 0\\end{matrix}\\right]$"
      ],
      "text/plain": [
       "<IPython.core.display.Math object>"
      ]
     },
     "metadata": {},
     "output_type": "display_data"
    },
    {
     "name": "stdout",
     "output_type": "stream",
     "text": [
      "\n"
     ]
    },
    {
     "data": {
      "text/latex": [
       "$\\displaystyle \\operatorname{PurePoly}{\\left( \\lambda^{2} -  2 i Δt κ \\lambda - 1, \\lambda, domain=\\mathbb{Z}\\left[i, Δt, κ\\right] \\right)}$"
      ],
      "text/plain": [
       "PurePoly(lambda**2 - 2*i*Δt*κ*lambda - 1, lambda, domain='ZZ[i,Δt,κ]')"
      ]
     },
     "metadata": {},
     "output_type": "display_data"
    },
    {
     "name": "stdout",
     "output_type": "stream",
     "text": [
      "\n"
     ]
    },
    {
     "data": {
      "text/latex": [
       "$\\displaystyle i Δt κ - \\sqrt{i^{2} Δt^{2} κ^{2} + 1}$"
      ],
      "text/plain": [
       "            _______________\n",
       "           ╱  2   2  2     \n",
       "i⋅Δt⋅κ - ╲╱  i ⋅Δt ⋅κ  + 1 "
      ]
     },
     "metadata": {},
     "output_type": "display_data"
    },
    {
     "data": {
      "text/latex": [
       "$\\displaystyle i Δt κ + \\sqrt{i^{2} Δt^{2} κ^{2} + 1}$"
      ],
      "text/plain": [
       "            _______________\n",
       "           ╱  2   2  2     \n",
       "i⋅Δt⋅κ + ╲╱  i ⋅Δt ⋅κ  + 1 "
      ]
     },
     "metadata": {},
     "output_type": "display_data"
    }
   ],
   "source": [
    "#LEAPFROG TEST\n",
    "κ, i, Δt = sympy.var('κ, i, Δt')  #\n",
    "A=Matrix([[2*i*κ*Δt, 1],[1, 0]])\n",
    "display(Math(\"A: \" + latex(A)))\n",
    "print()\n",
    "display(A.charpoly())\n",
    "print()\n",
    "Solutions=roots(A.charpoly(simplify=fu))\n",
    "for root in Solutions:\n",
    "        display(root)"
   ]
  },
  {
   "cell_type": "code",
   "execution_count": 293,
   "id": "be1127b5-6d2a-41ee-8c7c-3606811422fe",
   "metadata": {},
   "outputs": [
    {
     "data": {
      "text/latex": [
       "$\\displaystyle A: \\left[\\begin{matrix}- r & - b α\\\\γ & r\\end{matrix}\\right]$"
      ],
      "text/plain": [
       "<IPython.core.display.Math object>"
      ]
     },
     "metadata": {},
     "output_type": "display_data"
    },
    {
     "name": "stdout",
     "output_type": "stream",
     "text": [
      "\n",
      "Solutions using the method of computing the characteristic polynomial of A:\n"
     ]
    },
    {
     "data": {
      "text/latex": [
       "$\\displaystyle \\operatorname{PurePoly}{\\left( \\lambda^{2} + b α γ - r^{2}, \\lambda, domain=\\mathbb{Z}\\left[r, b, α, γ\\right] \\right)}$"
      ],
      "text/plain": [
       "PurePoly(lambda**2 + b*α*γ - r**2, lambda, domain='ZZ[r,b,α,γ]')"
      ]
     },
     "metadata": {},
     "output_type": "display_data"
    },
    {
     "name": "stdout",
     "output_type": "stream",
     "text": [
      "\n"
     ]
    },
    {
     "data": {
      "text/latex": [
       "$\\displaystyle The ~two ~eigenvectors ~are: ~\\left\\{ - \\sqrt{- b α γ + r^{2}} : 1, \\  \\sqrt{- b α γ + r^{2}} : 1\\right\\}$"
      ],
      "text/plain": [
       "<IPython.core.display.Math object>"
      ]
     },
     "metadata": {},
     "output_type": "display_data"
    },
    {
     "name": "stdout",
     "output_type": "stream",
     "text": [
      "\n",
      "After substituting values for the neutral case:\n"
     ]
    },
    {
     "data": {
      "text/latex": [
       "$\\displaystyle λ_{pos}: 0.306186217847897 i$"
      ],
      "text/plain": [
       "<IPython.core.display.Math object>"
      ]
     },
     "metadata": {},
     "output_type": "display_data"
    },
    {
     "data": {
      "text/latex": [
       "$\\displaystyle λ_{neg}: - 0.306186217847897 i$"
      ],
      "text/plain": [
       "<IPython.core.display.Math object>"
      ]
     },
     "metadata": {},
     "output_type": "display_data"
    }
   ],
   "source": [
    "# ANALYTIC SOLUTIONS\n",
    "λ, R, Δt, γ, α, b, r = sympy.var('λ, R, Δt, γ, α, b, r')  #\n",
    "A=Matrix([[-r, -α * b],[γ, r]])\n",
    "display(Math(\"A: \" + latex(A)))\n",
    "print()\n",
    "\n",
    "#I=eye(2)\n",
    "#M=A-(I*λ)\n",
    "#display('Matrix M: ', Math(latex(M)))\n",
    "#detM=M.det()\n",
    "#Solution=solve(detM,λ)\n",
    "#print(\"The M two solutions for λ are: \")\n",
    "#display(Solution)\n",
    "#print()\n",
    "\n",
    "print('Solutions using the method of computing the characteristic polynomial of A:')\n",
    "display(A.charpoly())\n",
    "print()\n",
    "\n",
    "sol=[0,0]\n",
    "Solutions=roots(A.charpoly(simplify=fu))\n",
    "display(Math(\"The ~two ~eigenvectors ~are: ~\" + latex(Solutions)))\n",
    "for i,root in enumerate(Solutions):\n",
    "        #display(root)\n",
    "        sol[i]=root\n",
    "\n",
    "lamda_plus=sol[1]\n",
    "lamda_minus=sol[0]\n",
    "\n",
    "b_0=2.5\n",
    "γ_par=0.75\n",
    "μ_par=2./3.\n",
    "b_par=b_0*μ_par\n",
    "c_par=1\n",
    "R_par=γ_par*b_par-c_par\n",
    "r_par=0.25\n",
    "α_par=0.125\n",
    "\n",
    "print()\n",
    "print(\"After substituting values for the neutral case:\")\n",
    "l_p=lamda_plus.subs({R:R_par,b:b_par,α:α_par,r:r_par,γ:γ_par})\n",
    "l_m=lamda_minus.subs({R:R_par,b:b_par,α:α_par,r:r_par,γ:γ_par})\n",
    "display(Math(\"λ_{pos}: \"+latex(l_p)))\n",
    "display(Math(\"λ_{neg}: \"+latex(l_m)))"
   ]
  },
  {
   "cell_type": "code",
   "execution_count": 267,
   "id": "87078a47-761e-4916-917f-dbb825b9529a",
   "metadata": {},
   "outputs": [
    {
     "data": {
      "text/latex": [
       "$\\displaystyle Matrix ~M: ~\\left[\\begin{matrix}- r & - b α\\\\γ & r\\end{matrix}\\right]$"
      ],
      "text/plain": [
       "<IPython.core.display.Math object>"
      ]
     },
     "metadata": {},
     "output_type": "display_data"
    },
    {
     "name": "stdout",
     "output_type": "stream",
     "text": [
      "\n"
     ]
    },
    {
     "data": {
      "text/latex": [
       "$\\displaystyle Amplification ~matrix ~A: ~\\left[\\begin{matrix}- r Δt + 1 & - b Δt α\\\\Δt γ & r Δt + 1\\end{matrix}\\right]$"
      ],
      "text/plain": [
       "<IPython.core.display.Math object>"
      ]
     },
     "metadata": {},
     "output_type": "display_data"
    },
    {
     "name": "stdout",
     "output_type": "stream",
     "text": [
      "\n"
     ]
    },
    {
     "data": {
      "text/latex": [
       "$\\displaystyle The ~determinant ~of ~A ~is: ~b Δt^{2} α γ - r^{2} Δt^{2} + 1$"
      ],
      "text/plain": [
       "<IPython.core.display.Math object>"
      ]
     },
     "metadata": {},
     "output_type": "display_data"
    },
    {
     "name": "stdout",
     "output_type": "stream",
     "text": [
      "\n",
      "Solutions using the method of computing the characteristic polynomial of A:\n"
     ]
    },
    {
     "data": {
      "text/latex": [
       "$\\displaystyle \\operatorname{PurePoly}{\\left( \\lambda^{2} - 2 \\lambda + b Δt^{2} α γ - r^{2} Δt^{2} + 1, \\lambda, domain=\\mathbb{Z}\\left[r, b, Δt, α, γ\\right] \\right)}$"
      ],
      "text/plain": [
       "PurePoly(lambda**2 - 2*lambda + b*Δt**2*α*γ - r**2*Δt**2 + 1, lambda, domain=' ↪\n",
       "\n",
       "↪ ZZ[r,b,Δt,α,γ]')"
      ]
     },
     "metadata": {},
     "output_type": "display_data"
    },
    {
     "name": "stdout",
     "output_type": "stream",
     "text": [
      "\n"
     ]
    },
    {
     "data": {
      "text/latex": [
       "$\\displaystyle The ~two ~eigenvectors ~are: ~\\left\\{ - Δt \\sqrt{- b α γ + r^{2}} + 1 : 1, \\  Δt \\sqrt{- b α γ + r^{2}} + 1 : 1\\right\\}$"
      ],
      "text/plain": [
       "<IPython.core.display.Math object>"
      ]
     },
     "metadata": {},
     "output_type": "display_data"
    },
    {
     "name": "stdout",
     "output_type": "stream",
     "text": [
      "After substituting values for the neutral case:\n"
     ]
    },
    {
     "data": {
      "text/latex": [
       "$\\displaystyle λ_{pos}: 0.306186217847897 i Δt + 1$"
      ],
      "text/plain": [
       "<IPython.core.display.Math object>"
      ]
     },
     "metadata": {},
     "output_type": "display_data"
    },
    {
     "data": {
      "text/latex": [
       "$\\displaystyle λ_{neg}: - 0.306186217847897 i Δt + 1$"
      ],
      "text/plain": [
       "<IPython.core.display.Math object>"
      ]
     },
     "metadata": {},
     "output_type": "display_data"
    },
    {
     "name": "stdout",
     "output_type": "stream",
     "text": [
      "\n",
      "After substituting for even a small Δt and computing the norm:\n"
     ]
    },
    {
     "data": {
      "text/latex": [
       "$\\displaystyle 1.00000000046875$"
      ],
      "text/plain": [
       "1.00000000046875"
      ]
     },
     "metadata": {},
     "output_type": "display_data"
    },
    {
     "data": {
      "text/latex": [
       "$\\displaystyle 1.00000000046875$"
      ],
      "text/plain": [
       "1.00000000046875"
      ]
     },
     "metadata": {},
     "output_type": "display_data"
    }
   ],
   "source": [
    "# EULER SCHEME\n",
    "λ, R, Δt, γ, α, b, r = sympy.var('λ, R, Δt, γ, α, b, r')  #\n",
    "M=Matrix([[-r, -α * b],[γ, r]])\n",
    "display(Math(\"Matrix ~M: ~\" + latex(M)))\n",
    "print()\n",
    "\n",
    "I=eye(2)\n",
    "A=I+Δt*M\n",
    "display(Math(\"Amplification ~matrix ~A: ~\" + latex(A)))\n",
    "print()\n",
    "\n",
    "detA = A.det()\n",
    "display(Math(\"The ~determinant ~of ~A ~is: ~\" + latex(detA)))\n",
    "print()\n",
    "\n",
    "print('Solutions using the method of computing the characteristic polynomial of A:')\n",
    "display(A.charpoly())\n",
    "print()\n",
    "\n",
    "Solutions=roots(A.charpoly(simplify=fu))\n",
    "display(Math(\"The ~two ~eigenvectors ~are: ~\" + latex(Solutions)))\n",
    "sol=[0,0]\n",
    "for i,root in enumerate(Solutions):\n",
    "        #display(root,abs(root))\n",
    "        sol[i]=root\n",
    "    \n",
    "lamda_plus=sol[1]\n",
    "lamda_minus=sol[0]\n",
    "\n",
    "l_p=lamda_plus.subs({R:R_par,b:b_par,α:alpha_par,r:r_par,γ:gamma_par})\n",
    "l_m=lamda_minus.subs({R:R_par,b:b_par,α:alpha_par,r:r_par,γ:gamma_par})\n",
    "print(\"After substituting values for the neutral case:\")\n",
    "display(Math(\"λ_{pos}: \"+latex(l_p)))\n",
    "display(Math(\"λ_{neg}: \"+latex(l_m)))\n",
    "print()\n",
    "\n",
    "print(\"After substituting for even a small Δt and computing the norm:\")\n",
    "l_p=l_p.subs({Δt:1/10000})\n",
    "l_m=l_m.subs({Δt:1/10000})\n",
    "display(simplify(sqrt((l_p*conjugate(l_p)))))\n",
    "display(simplify(sqrt((l_m*conjugate(l_m)))))"
   ]
  },
  {
   "cell_type": "code",
   "execution_count": 279,
   "id": "507d0a69-6ab4-4fdf-a827-bd0c7df53f81",
   "metadata": {},
   "outputs": [
    {
     "data": {
      "text/latex": [
       "$\\displaystyle Matrix ~M: ~\\left[\\begin{matrix}r & b α\\\\- γ & - r\\end{matrix}\\right]$"
      ],
      "text/plain": [
       "<IPython.core.display.Math object>"
      ]
     },
     "metadata": {},
     "output_type": "display_data"
    },
    {
     "name": "stdout",
     "output_type": "stream",
     "text": [
      "\n"
     ]
    },
    {
     "data": {
      "text/latex": [
       "$\\displaystyle Amplification ~matrix ~A: \\left[\\begin{matrix}r Δt + 1 & b Δt α\\\\- Δt γ & - r Δt + 1\\end{matrix}\\right]$"
      ],
      "text/plain": [
       "<IPython.core.display.Math object>"
      ]
     },
     "metadata": {},
     "output_type": "display_data"
    },
    {
     "name": "stdout",
     "output_type": "stream",
     "text": [
      "\n"
     ]
    },
    {
     "data": {
      "text/latex": [
       "$\\displaystyle Amplification ~matrix ~AI: \\left[\\begin{matrix}- r Δt + 1 & - b Δt α\\\\Δt γ & r Δt + 1\\end{matrix}\\right]$"
      ],
      "text/plain": [
       "<IPython.core.display.Math object>"
      ]
     },
     "metadata": {},
     "output_type": "display_data"
    },
    {
     "name": "stdout",
     "output_type": "stream",
     "text": [
      "\n",
      "Solutions using the method of computing the characteristic polynomial of AI:\n"
     ]
    },
    {
     "data": {
      "text/latex": [
       "$\\displaystyle \\operatorname{PurePoly}{\\left( \\lambda^{2} - 2 \\lambda + b Δt^{2} α γ - r^{2} Δt^{2} + 1, \\lambda, domain=\\mathbb{Z}\\left[r, b, Δt, α, γ\\right] \\right)}$"
      ],
      "text/plain": [
       "PurePoly(lambda**2 - 2*lambda + b*Δt**2*α*γ - r**2*Δt**2 + 1, lambda, domain=' ↪\n",
       "\n",
       "↪ ZZ[r,b,Δt,α,γ]')"
      ]
     },
     "metadata": {},
     "output_type": "display_data"
    },
    {
     "name": "stdout",
     "output_type": "stream",
     "text": [
      "\n"
     ]
    },
    {
     "data": {
      "text/latex": [
       "$\\displaystyle The ~two ~eigenvectors ~are: ~\\left\\{ - Δt \\sqrt{- b α γ + r^{2}} + 1 : 1, \\  Δt \\sqrt{- b α γ + r^{2}} + 1 : 1\\right\\}$"
      ],
      "text/plain": [
       "<IPython.core.display.Math object>"
      ]
     },
     "metadata": {},
     "output_type": "display_data"
    },
    {
     "name": "stdout",
     "output_type": "stream",
     "text": [
      "After substituting values for the neutral case:\n"
     ]
    },
    {
     "data": {
      "text/latex": [
       "$\\displaystyle λ_{pos}: \\frac{0.306186217847897 i Δt + 1}{0.09375 Δt^{2} + 1}$"
      ],
      "text/plain": [
       "<IPython.core.display.Math object>"
      ]
     },
     "metadata": {},
     "output_type": "display_data"
    },
    {
     "data": {
      "text/latex": [
       "$\\displaystyle λ_{neg}: \\frac{- 0.306186217847897 i Δt + 1}{0.09375 Δt^{2} + 1}$"
      ],
      "text/plain": [
       "<IPython.core.display.Math object>"
      ]
     },
     "metadata": {},
     "output_type": "display_data"
    },
    {
     "name": "stdout",
     "output_type": "stream",
     "text": [
      "\n",
      "After substituting for even a small Δt and computing the norm:\n"
     ]
    },
    {
     "data": {
      "text/latex": [
       "$\\displaystyle 0.99999999953125$"
      ],
      "text/plain": [
       "0.999999999531250"
      ]
     },
     "metadata": {},
     "output_type": "display_data"
    },
    {
     "data": {
      "text/latex": [
       "$\\displaystyle 0.99999999953125$"
      ],
      "text/plain": [
       "0.999999999531250"
      ]
     },
     "metadata": {},
     "output_type": "display_data"
    }
   ],
   "source": [
    "#IMPLICIT SCHEME\n",
    "λ, R, Δt, γ, α, b, r = sympy.var('λ, R, Δt, γ, α, b, r')  #\n",
    "#M_PL=Matrix([[1-r*Deltat - lamda, -alpha * b * Deltat],[gamma* Deltat, 1+R* Deltat - lamda]])\n",
    "M=Matrix([[r, α * b],[-γ, -r]])\n",
    "MI=Matrix([[-r, -α * b],[γ, r]])\n",
    "\n",
    "display(Math(\"Matrix ~M: ~\" + latex(M)))\n",
    "print()\n",
    "\n",
    "I=eye(2)\n",
    "A=Δt*M+(I)\n",
    "#AI=Δt*MI+(I)-λ*I\n",
    "AI=Δt*MI+(I)\n",
    "display(Math(\"Amplification ~matrix ~A: \"+ latex(A)))\n",
    "print()\n",
    "\n",
    "display(Math(\"Amplification ~matrix ~AI: \"+ latex(AI)))\n",
    "print()\n",
    "\n",
    "print('Solutions using the method of computing the characteristic polynomial of AI:')\n",
    "display(AI.charpoly())\n",
    "print()\n",
    "\n",
    "Solutions=roots(A.charpoly(simplify=fu))\n",
    "display(Math(\"The ~two ~eigenvectors ~are: ~\" + latex(Solutions)))\n",
    "sol=[0,0]\n",
    "for i,root in enumerate(Solutions):\n",
    "        #display(root,abs(root))\n",
    "        sol[i]=root\n",
    "    \n",
    "lamda_plus=sol[1]/detA\n",
    "lamda_minus=sol[0]/detA\n",
    "\n",
    "l_p=lamda_plus.subs({R:R_par,b:b_par,α:alpha_par,r:r_par,γ:gamma_par})\n",
    "l_m=lamda_minus.subs({R:R_par,b:b_par,α:alpha_par,r:r_par,γ:gamma_par})\n",
    "print(\"After substituting values for the neutral case:\")\n",
    "display(Math(\"λ_{pos}: \"+latex(l_p)))\n",
    "display(Math(\"λ_{neg}: \"+latex(l_m)))\n",
    "print()\n",
    "\n",
    "print(\"After substituting for even a small Δt and computing the norm:\")\n",
    "l_p=l_p.subs({Δt:1/10000})\n",
    "l_m=l_m.subs({Δt:1/10000})\n",
    "display(simplify(sqrt((l_p*conjugate(l_p)))))\n",
    "display(simplify(sqrt((l_m*conjugate(l_m)))))\n",
    "\n",
    "#invA=A.inv()\n",
    "#display(invA)\n",
    "#print()"
   ]
  },
  {
   "cell_type": "code",
   "execution_count": null,
   "id": "0894c3dc-0cf5-47ae-a089-8acc01b84279",
   "metadata": {},
   "outputs": [],
   "source": [
    "#BITS OF OLD IMPLICIT CODE\n",
    "\n",
    "detA = A.det()\n",
    "print(\"The determinant of A is:\")\n",
    "display(detA)\n",
    "print()\n",
    "detAI = AI.det()\n",
    "print(\"The determinant of AI is:\")\n",
    "display(detAI)\n",
    "print()\n",
    "\n",
    "Solution=solve(detAI,λ)\n",
    "print(\"The two solutions for lamda are: \")\n",
    "display(Solution)\n",
    "\n",
    "lamda_plus=Solution[1]/detA\n",
    "lamda_minus=Solution[0]/detA\n",
    "\n",
    "print(\"After substituting values for the neutral case:\")\n",
    "print(\"λ_pos: \",lamda_plus.subs({R:R_par,b:b_par,α:alpha_par,r:r_par,γ:gamma_par}))\n",
    "print(\"λ_neg: \",lamda_minus.subs({R:R_par,b:b_par,α:alpha_par,r:r_par,γ:gamma_par}))"
   ]
  },
  {
   "cell_type": "code",
   "execution_count": 21,
   "id": "loving-accreditation",
   "metadata": {},
   "outputs": [
    {
     "name": "stderr",
     "output_type": "stream",
     "text": [
      "<>:11: SyntaxWarning: invalid escape sequence '\\ '\n",
      "<>:21: SyntaxWarning: invalid escape sequence '\\P'\n",
      "<>:22: SyntaxWarning: invalid escape sequence '\\P'\n",
      "<>:47: SyntaxWarning: invalid escape sequence '\\ '\n",
      "<>:53: SyntaxWarning: invalid escape sequence '\\ '\n",
      "<>:11: SyntaxWarning: invalid escape sequence '\\ '\n",
      "<>:21: SyntaxWarning: invalid escape sequence '\\P'\n",
      "<>:22: SyntaxWarning: invalid escape sequence '\\P'\n",
      "<>:47: SyntaxWarning: invalid escape sequence '\\ '\n",
      "<>:53: SyntaxWarning: invalid escape sequence '\\ '\n",
      "/var/folders/z2/109tn9mj5cs43t3bpbs9d6g80000gq/T/ipykernel_28198/3172042187.py:11: SyntaxWarning: invalid escape sequence '\\ '\n",
      "  display(Math(\"{Matrix}\\ M:\\ \" + latex(M)))\n",
      "/var/folders/z2/109tn9mj5cs43t3bpbs9d6g80000gq/T/ipykernel_28198/3172042187.py:21: SyntaxWarning: invalid escape sequence '\\P'\n",
      "  display(Math(\"\\Psi \\ positive\\ solution:\\ \" + latex(Psi_plus)))\n",
      "/var/folders/z2/109tn9mj5cs43t3bpbs9d6g80000gq/T/ipykernel_28198/3172042187.py:22: SyntaxWarning: invalid escape sequence '\\P'\n",
      "  display(Math(\"\\Psi \\ negative\\ solution:\\ \" + latex(Psi_minus)))\n",
      "/var/folders/z2/109tn9mj5cs43t3bpbs9d6g80000gq/T/ipykernel_28198/3172042187.py:47: SyntaxWarning: invalid escape sequence '\\ '\n",
      "  display(Math(\"Analytic\\ expression\\ for\\ \\lambda^2 :\\  \" + latex(lambda_squared)))\n",
      "/var/folders/z2/109tn9mj5cs43t3bpbs9d6g80000gq/T/ipykernel_28198/3172042187.py:53: SyntaxWarning: invalid escape sequence '\\ '\n",
      "  display(Math(\"Value\\ of\\ \\lambda^2 \\ for\\ Euler:\\  \" + latex(lambda_square_solution)))\n",
      "/var/folders/z2/109tn9mj5cs43t3bpbs9d6g80000gq/T/ipykernel_28198/3172042187.py:11: SyntaxWarning: invalid escape sequence '\\ '\n",
      "  display(Math(\"{Matrix}\\ M:\\ \" + latex(M)))\n",
      "/var/folders/z2/109tn9mj5cs43t3bpbs9d6g80000gq/T/ipykernel_28198/3172042187.py:21: SyntaxWarning: invalid escape sequence '\\P'\n",
      "  display(Math(\"\\Psi \\ positive\\ solution:\\ \" + latex(Psi_plus)))\n",
      "/var/folders/z2/109tn9mj5cs43t3bpbs9d6g80000gq/T/ipykernel_28198/3172042187.py:22: SyntaxWarning: invalid escape sequence '\\P'\n",
      "  display(Math(\"\\Psi \\ negative\\ solution:\\ \" + latex(Psi_minus)))\n",
      "/var/folders/z2/109tn9mj5cs43t3bpbs9d6g80000gq/T/ipykernel_28198/3172042187.py:47: SyntaxWarning: invalid escape sequence '\\ '\n",
      "  display(Math(\"Analytic\\ expression\\ for\\ \\lambda^2 :\\  \" + latex(lambda_squared)))\n",
      "/var/folders/z2/109tn9mj5cs43t3bpbs9d6g80000gq/T/ipykernel_28198/3172042187.py:53: SyntaxWarning: invalid escape sequence '\\ '\n",
      "  display(Math(\"Value\\ of\\ \\lambda^2 \\ for\\ Euler:\\  \" + latex(lambda_square_solution)))\n"
     ]
    },
    {
     "ename": "NameError",
     "evalue": "name 'Psi' is not defined",
     "output_type": "error",
     "traceback": [
      "\u001b[0;31m---------------------------------------------------------------------------\u001b[0m",
      "\u001b[0;31mNameError\u001b[0m                                 Traceback (most recent call last)",
      "Cell \u001b[0;32mIn[21], line 5\u001b[0m\n\u001b[1;32m      3\u001b[0m R, Dt, gamma, alpha, b, r \u001b[38;5;241m=\u001b[39m sympy\u001b[38;5;241m.\u001b[39mvar(\u001b[38;5;124m'\u001b[39m\u001b[38;5;124mR, Dt, gamma, alpha, b, r\u001b[39m\u001b[38;5;124m'\u001b[39m)  \u001b[38;5;66;03m# \u001b[39;00m\n\u001b[1;32m      4\u001b[0m \u001b[38;5;66;03m#M=Matrix(([[Psi-1-R*Dt,-gamma*Dt],[alpha*b*Dt,Psi-1+r*Dt]]))\u001b[39;00m\n\u001b[0;32m----> 5\u001b[0m M\u001b[38;5;241m=\u001b[39mMatrix(([[\u001b[38;5;241m1\u001b[39m\u001b[38;5;241m-\u001b[39mR\u001b[38;5;241m*\u001b[39mDt,\u001b[38;5;241m-\u001b[39mgamma\u001b[38;5;241m*\u001b[39mDt],[alpha\u001b[38;5;241m*\u001b[39mb\u001b[38;5;241m*\u001b[39mDt,Psi\u001b[38;5;241m-\u001b[39m\u001b[38;5;241m1\u001b[39m\u001b[38;5;241m+\u001b[39mR\u001b[38;5;241m*\u001b[39mDt]])) \u001b[38;5;66;03m# special case of mu=2/3 so R=r\u001b[39;00m\n\u001b[1;32m      7\u001b[0m M\u001b[38;5;241m=\u001b[39mMatrix(([[Psi\u001b[38;5;241m-\u001b[39m\u001b[38;5;241m1\u001b[39m\u001b[38;5;241m-\u001b[39mR\u001b[38;5;241m*\u001b[39mDt,\u001b[38;5;241m-\u001b[39mgamma\u001b[38;5;241m*\u001b[39mDt],[alpha\u001b[38;5;241m*\u001b[39mb\u001b[38;5;241m*\u001b[39mDt,Psi\u001b[38;5;241m-\u001b[39m\u001b[38;5;241m1\u001b[39m\u001b[38;5;241m+\u001b[39mR\u001b[38;5;241m*\u001b[39mDt]])) \u001b[38;5;66;03m# special case of mu=2/3 so R=r\u001b[39;00m\n\u001b[1;32m      9\u001b[0m \u001b[38;5;66;03m#pprint(M)\u001b[39;00m\n\u001b[1;32m     10\u001b[0m \u001b[38;5;66;03m#display(M)\u001b[39;00m\n",
      "\u001b[0;31mNameError\u001b[0m: name 'Psi' is not defined"
     ]
    }
   ],
   "source": [
    "# EULER SCHEME\n",
    "#Psi = sympy.symbols('Psi')             # these are the symbols to solve for\n",
    "R, Dt, gamma, alpha, b, r = sympy.var('R, Dt, gamma, alpha, b, r')  # \n",
    "#M=Matrix(([[Psi-1-R*Dt,-gamma*Dt],[alpha*b*Dt,Psi-1+r*Dt]]))\n",
    "M=Matrix(([[1-R*Dt,-gamma*Dt],[alpha*b*Dt,Psi-1+R*Dt]])) # special case of mu=2/3 so R=r\n",
    "\n",
    "M=Matrix(([[Psi-1-R*Dt,-gamma*Dt],[alpha*b*Dt,Psi-1+R*Dt]])) # special case of mu=2/3 so R=r\n",
    "\n",
    "#pprint(M)\n",
    "#display(M)\n",
    "display(Math(\"{Matrix}\\ M:\\ \" + latex(M)))\n",
    "\n",
    "equation=M.det()\n",
    "Solution=solve(equation,Psi)\n",
    "#pprint(Solution)\n",
    "Psi_plus=Solution[1]\n",
    "Psi_minus=Solution[0]\n",
    "\n",
    "print(\" \")\n",
    "#print(\"Psi positive solution: \")\n",
    "display(Math(\"\\Psi \\ positive\\ solution:\\ \" + latex(Psi_plus)))\n",
    "display(Math(\"\\Psi \\ negative\\ solution:\\ \" + latex(Psi_minus)))\n",
    "\n",
    "print(\" \")\n",
    "\n",
    "mu=2./3.\n",
    "b_0=2.5\n",
    "b_val=b_0/mu\n",
    "gamma_val=0.75\n",
    "alpha_val=0.25\n",
    "r_val=0.125\n",
    "c_val=1.0\n",
    "R_val=gamma_val*b_val - c_val\n",
    "\n",
    "Psi_solution_plus  = Psi_plus.subs([(R,R_val), (r,r_val)])\n",
    "Psi_solution_minus = Psi_minus.subs([(R,R_val), (r,r_val)])\n",
    "\n",
    "#print(\" \")\n",
    "##print(\"Psi positive solution: \")\n",
    "#pprint(Psi_solution_plus)\n",
    "#print(\" \")\n",
    "#print(\"$\\Psi$ negative solution: \")\n",
    "#pprint(Psi_solution_minus)\n",
    "\n",
    "lambda_squared = 1 + (alpha*gamma*b -R*r)*Dt**2\n",
    "\n",
    "display(Math(\"Analytic\\ expression\\ for\\ \\lambda^2 :\\  \" + latex(lambda_squared)))\n",
    "#print(\"Analytic expression for lambda_squared: \")\n",
    "#pprint(lambda_squared)\n",
    "lambda_square_solution = lambda_squared.subs([(R,R_val), (r,r_val),(alpha,alpha_val), (gamma, gamma_val), (b,b_val)])\n",
    "print(\" \")\n",
    "#print(\"Value of lambda_squared for Euler: \",lambda_square_solution)\n",
    "display(Math(\"Value\\ of\\ \\lambda^2 \\ for\\ Euler:\\  \" + latex(lambda_square_solution)))\n"
   ]
  },
  {
   "cell_type": "code",
   "execution_count": 3,
   "id": "colonial-stage",
   "metadata": {},
   "outputs": [
    {
     "data": {
      "text/latex": [
       "$\\displaystyle {Matrix}\\ M:\\ \\left[\\begin{matrix}\\Psi \\left(- Dt R + 1\\right) - 1 & - Dt \\Psi \\gamma\\\\Dt \\Psi \\alpha b & \\Psi \\left(Dt R + 1\\right) - 1\\end{matrix}\\right]$"
      ],
      "text/plain": [
       "<IPython.core.display.Math object>"
      ]
     },
     "metadata": {},
     "output_type": "display_data"
    },
    {
     "data": {
      "text/latex": [
       "$\\displaystyle \\Psi \\ positive\\ solution:\\ \\frac{Dt \\sqrt{R^{2} - \\alpha b \\gamma} + 1}{- Dt^{2} R^{2} + Dt^{2} \\alpha b \\gamma + 1}$"
      ],
      "text/plain": [
       "<IPython.core.display.Math object>"
      ]
     },
     "metadata": {},
     "output_type": "display_data"
    },
    {
     "data": {
      "text/latex": [
       "$\\displaystyle \\Psi \\ negative\\ solution:\\ \\frac{- Dt \\sqrt{R^{2} - \\alpha b \\gamma} + 1}{- Dt^{2} R^{2} + Dt^{2} \\alpha b \\gamma + 1}$"
      ],
      "text/plain": [
       "<IPython.core.display.Math object>"
      ]
     },
     "metadata": {},
     "output_type": "display_data"
    },
    {
     "name": "stdout",
     "output_type": "stream",
     "text": [
      " \n"
     ]
    },
    {
     "data": {
      "text/latex": [
       "$\\displaystyle Analytic\\ expression\\ for\\ \\lambda^2 :\\  \\frac{Dt^{2} \\left(- R r + \\alpha b \\gamma\\right) + 1}{\\left(- Dt^{2} R r + Dt^{2} \\alpha b \\gamma + 1\\right)^{2}}$"
      ],
      "text/plain": [
       "<IPython.core.display.Math object>"
      ]
     },
     "metadata": {},
     "output_type": "display_data"
    },
    {
     "name": "stdout",
     "output_type": "stream",
     "text": [
      " \n"
     ]
    },
    {
     "data": {
      "text/latex": [
       "$\\displaystyle Value\\ of\\ \\lambda^2 \\ for\\ Backward:\\  \\frac{1.0}{0.4765625 Dt^{2} + 1}$"
      ],
      "text/plain": [
       "<IPython.core.display.Math object>"
      ]
     },
     "metadata": {},
     "output_type": "display_data"
    }
   ],
   "source": [
    "# BACKWARD SCHEME\n",
    "Psi = sympy.symbols('Psi')             # these are the symbols to solve for\n",
    "R, Dt, gamma, alpha, b, r = sympy.var('R, Dt, gamma, alpha, b, r')  # \n",
    "#M=Matrix(([[Psi*(1-R*Dt)-1,-gamma*Dt*Psi],[alpha*b*Dt*Psi,Psi*(1+r*Dt)-1]]))\n",
    "M=Matrix(([[Psi*(1-R*Dt)-1,-gamma*Dt*Psi],[alpha*b*Dt*Psi,Psi*(1+R*Dt)-1]]))\n",
    "#pprint(M)\n",
    "display(Math(\"{Matrix}\\ M:\\ \" + latex(M)))\n",
    "\n",
    "equation=M.det()\n",
    "Solution=solve(equation,Psi)\n",
    "#pprint(Solution)\n",
    "Psi_plus=Solution[1]\n",
    "Psi_minus=Solution[0]\n",
    "\n",
    "display(Math(\"\\Psi \\ positive\\ solution:\\ \" + latex(Psi_plus)))\n",
    "display(Math(\"\\Psi \\ negative\\ solution:\\ \" + latex(Psi_minus)))\n",
    "\n",
    "mu=2./3.\n",
    "b_0=2.5\n",
    "b_val=b_0/mu\n",
    "gamma_val=0.75\n",
    "alpha_val=0.25\n",
    "r_val=0.125\n",
    "c_val=1.0\n",
    "R_val=gamma_val*b_val - c_val\n",
    "\n",
    "Psi_solution_plus  = Psi_plus.subs([(R,R_val), (r,r_val)])\n",
    "Psi_solution_minus = Psi_minus.subs([(R,R_val), (r,r_val)])\n",
    "\n",
    "#print(\" \")\n",
    "#print(\"Psi positive solution: \")\n",
    "#pprint(Psi_solution_plus)\n",
    "#print(\" \")\n",
    "#print(\"Psi negative solution: \")\n",
    "#pprint(Psi_solution_minus)\n",
    "\n",
    "lambda_squared = (1 + (alpha*gamma*b -R*r)*Dt**2)/((Dt**2*alpha*b*gamma-Dt**2*R*r+1))**2\n",
    "print(\" \")\n",
    "display(Math(\"Analytic\\ expression\\ for\\ \\lambda^2 :\\  \" + latex(lambda_squared)))\n",
    "\n",
    "lambda_square_solution = lambda_squared.subs([(R,R_val), (r,r_val),(alpha,alpha_val), (gamma, gamma_val), (b,b_val)])\n",
    "print(\" \")\n",
    "#print(\"Value of lambda_squared for Backward: \",lambda_square_solution)\n",
    "display(Math(\"Value\\ of\\ \\lambda^2 \\ for\\ Backward:\\  \" + latex(lambda_square_solution)))\n"
   ]
  },
  {
   "cell_type": "code",
   "execution_count": 22,
   "id": "broke-actress",
   "metadata": {},
   "outputs": [
    {
     "name": "stdout",
     "output_type": "stream",
     "text": [
      "⎡  Dt⋅R     ⎛  Dt⋅R    ⎞          Dt⋅Ψ⋅γ   Dt⋅γ  ⎤\n",
      "⎢- ──── + Ψ⋅⎜- ──── + 1⎟ - 1    - ────── + ────  ⎥\n",
      "⎢   2       ⎝   2      ⎠            2       2    ⎥\n",
      "⎢                                                ⎥\n",
      "⎢     Dt⋅Ψ⋅α⋅b   Dt⋅α⋅b       Dt⋅R     ⎛Dt⋅R    ⎞⎥\n",
      "⎢     ──────── + ──────       ──── + Ψ⋅⎜──── + 1⎟⎥\n",
      "⎣        2         2           2       ⎝ 2      ⎠⎦\n",
      " \n"
     ]
    },
    {
     "data": {
      "text/latex": [
       "$\\displaystyle \\Psi \\ positive\\ solution:\\ \\frac{Dt^{2} R^{2} + Dt R + \\sqrt{Dt^{4} \\alpha^{2} b^{2} \\gamma^{2} + 2 Dt^{3} R \\alpha b \\gamma + 9 Dt^{2} R^{2} + 4 Dt^{2} \\alpha b \\gamma + 12 Dt R + 4} + 2}{- Dt^{2} R^{2} + Dt^{2} \\alpha b \\gamma + 4}$"
      ],
      "text/plain": [
       "<IPython.core.display.Math object>"
      ]
     },
     "metadata": {},
     "output_type": "display_data"
    },
    {
     "data": {
      "text/latex": [
       "$\\displaystyle \\Psi \\ negative\\ solution:\\ \\frac{Dt^{2} R^{2} + Dt R - \\sqrt{Dt^{4} \\alpha^{2} b^{2} \\gamma^{2} + 2 Dt^{3} R \\alpha b \\gamma + 9 Dt^{2} R^{2} + 4 Dt^{2} \\alpha b \\gamma + 12 Dt R + 4} + 2}{- Dt^{2} R^{2} + Dt^{2} \\alpha b \\gamma + 4}$"
      ],
      "text/plain": [
       "<IPython.core.display.Math object>"
      ]
     },
     "metadata": {},
     "output_type": "display_data"
    },
    {
     "name": "stdout",
     "output_type": "stream",
     "text": [
      " \n"
     ]
    },
    {
     "data": {
      "text/latex": [
       "$\\displaystyle Analytic\\ expression\\ for\\ \\lambda^2 :\\  \\frac{- Dt^{4} \\alpha^{2} b^{2} \\gamma^{2} - 2 Dt^{3} R \\alpha b \\gamma - 9 Dt^{2} R^{2} - 4 Dt^{2} \\alpha b \\gamma - 12 Dt R + \\left(Dt^{2} R^{2} + Dt r + 2\\right)^{2} - 4}{\\left(- Dt^{2} R^{2} + Dt^{2} \\alpha b \\gamma + 4\\right)^{2}}$"
      ],
      "text/plain": [
       "<IPython.core.display.Math object>"
      ]
     },
     "metadata": {},
     "output_type": "display_data"
    },
    {
     "name": "stdout",
     "output_type": "stream",
     "text": [
      " \n"
     ]
    },
    {
     "data": {
      "text/latex": [
       "$\\displaystyle Value\\ of\\ \\lambda^2 \\ for\\ Heun:\\  \\frac{- 0.494384765625 Dt^{4} - 2.548828125 Dt^{3} - 32.37890625 Dt^{2} - 21.75 Dt + 10.7922515869141 \\left(Dt^{2} + 0.0380499405469679 Dt + 0.608799048751486\\right)^{2} - 4}{16 \\left(1 - 0.6455078125 Dt^{2}\\right)^{2}}$"
      ],
      "text/plain": [
       "<IPython.core.display.Math object>"
      ]
     },
     "metadata": {},
     "output_type": "display_data"
    },
    {
     "data": {
      "text/latex": [
       "$\\displaystyle Value\\ of\\ \\lambda^2 \\ for\\ Heun\\ with\\ a\\ time\\ step\\ of\\ 100:\\  1.54222440400989$"
      ],
      "text/plain": [
       "<IPython.core.display.Math object>"
      ]
     },
     "metadata": {},
     "output_type": "display_data"
    },
    {
     "data": {
      "text/latex": [
       "$\\displaystyle Value\\ of\\ \\lambda^2 \\ for\\ Heun\\ with\\ a\\ time\\ step\\ of\\ 2:\\  0.787983539094649$"
      ],
      "text/plain": [
       "<IPython.core.display.Math object>"
      ]
     },
     "metadata": {},
     "output_type": "display_data"
    }
   ],
   "source": [
    "# HEUN SCHEME\n",
    "Psi = sympy.symbols('Psi')             # these are the symbols to solve for\n",
    "R, Dt, gamma, alpha, b, r = sympy.var('R, Dt, gamma, alpha, b, r')  # \n",
    "#M=Matrix(([[Psi*(1-R*Dt/2)-1-(R*Dt/2),-gamma*Dt/2*Psi--gamma*Dt/2],[alpha*b*Dt/2*Psi+alpha*b*Dt/2,Psi*(1+r*Dt/2)-1+(1+r*Dt/2)]]))\n",
    "##pprint(M)\n",
    "#display(Math(\"{Matrix}\\ M:\\ \" + latex(M)))\n",
    "\n",
    "M=Matrix(([[Psi*(1-R*Dt/2)-1-(R*Dt/2),-gamma*Dt/2*Psi--gamma*Dt/2],[alpha*b*Dt/2*Psi+alpha*b*Dt/2,Psi*(1+R*Dt/2)-1+(1+R*Dt/2)]]))\n",
    "pprint(M)\n",
    "equation=M.det()\n",
    "Solution=solve(equation,Psi)\n",
    "#pprint(Solution)\n",
    "Psi_plus=Solution[1]\n",
    "Psi_minus=Solution[0]\n",
    "print(\" \")\n",
    "\n",
    "display(Math(\"\\Psi \\ positive\\ solution:\\ \" + latex(Psi_plus)))\n",
    "display(Math(\"\\Psi \\ negative\\ solution:\\ \" + latex(Psi_minus)))\n",
    "\n",
    "mu=2./3.\n",
    "b_0=2.5\n",
    "b_val=b_0/mu\n",
    "gamma_val=0.75\n",
    "alpha_val=0.25\n",
    "r_val=0.125\n",
    "c_val=1.0\n",
    "R_val=gamma_val*b_val - c_val\n",
    "\n",
    "#Psi_solution_plus  = Psi_plus.subs([(R,R_val), (r,r_val), (alpha,alpha_val), (gamma, gamma_val), (b,b_val)])\n",
    "#Psi_solution_minus = Psi_minus.subs([(R,R_val), (r,r_val), (alpha,alpha_val), (gamma, gamma_val), (b,b_val)])\n",
    "\n",
    "Psi_solution_plus  = Psi_plus.subs([(R,R_val), (r,R_val)])\n",
    "Psi_solution_minus = Psi_minus.subs([(R,R_val), (r,R_val)])\n",
    "\n",
    "lambda_squared = ( (Dt**2*R**2+Dt*r+2)**2 - (Dt**4*alpha**2*b**2*gamma**2 + 2*Dt**3*R*alpha*b*gamma +9*Dt**2*R**2 + 4*Dt**2*alpha*b*gamma + 12*Dt*R +4) ) / (Dt**2*alpha*b*gamma-Dt**2*R**2+4)**2\n",
    "print(\" \")\n",
    "display(Math(\"Analytic\\ expression\\ for\\ \\lambda^2 :\\  \" + latex(lambda_squared)))\n",
    "\n",
    "lambda_square_solution = lambda_squared.subs([(R,R_val), (r,r_val),(alpha,alpha_val), (gamma, gamma_val), (b,b_val)])\n",
    "print(\" \")\n",
    "display(Math(\"Value\\ of\\ \\lambda^2 \\ for\\ Heun:\\  \" + latex(lambda_square_solution)))\n",
    "lambda_solution_100 = lambda_square_solution.subs([(Dt,100)])\n",
    "#pprint(lambda_solution_100)\n",
    "display(Math(\"Value\\ of\\ \\lambda^2 \\ for\\ Heun\\ with\\ a\\ time\\ step\\ of\\ 100:\\  \" + latex(lambda_solution_100)))\n",
    "lambda_solution_2 = lambda_square_solution.subs([(Dt,2)])\n",
    "display(Math(\"Value\\ of\\ \\lambda^2 \\ for\\ Heun\\ with\\ a\\ time\\ step\\ of\\ 2:\\  \" + latex(lambda_solution_2)))"
   ]
  },
  {
   "cell_type": "code",
   "execution_count": null,
   "id": "alternative-sitting",
   "metadata": {},
   "outputs": [],
   "source": []
  }
 ],
 "metadata": {
  "kernelspec": {
   "display_name": "Python 3 (ipykernel)",
   "language": "python",
   "name": "python3"
  },
  "language_info": {
   "codemirror_mode": {
    "name": "ipython",
    "version": 3
   },
   "file_extension": ".py",
   "mimetype": "text/x-python",
   "name": "python",
   "nbconvert_exporter": "python",
   "pygments_lexer": "ipython3",
   "version": "3.12.8"
  }
 },
 "nbformat": 4,
 "nbformat_minor": 5
}
