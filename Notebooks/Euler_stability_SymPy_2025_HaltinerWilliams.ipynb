{
 "cells": [
  {
   "cell_type": "markdown",
   "id": "6f682825",
   "metadata": {},
   "source": [
    "## For the numerical solutions, analysis by hand is fine for Euler, but for more complex schemes it is easier to adopt symbolic computatation with SimPy"
   ]
  },
  {
   "cell_type": "code",
   "execution_count": 1,
   "id": "6d22d8f4",
   "metadata": {},
   "outputs": [],
   "source": [
    "from IPython.display import display, Latex, Math\n",
    "import sympy\n",
    "from sympy import *\n",
    "from sympy.matrices import Matrix\n",
    "init_printing(use_latex='mathjax')"
   ]
  },
  {
   "cell_type": "code",
   "execution_count": 2,
   "id": "dbfd6ec5-951e-4511-89c3-c9ad1412b4c2",
   "metadata": {},
   "outputs": [
    {
     "data": {
      "text/latex": [
       "$\\displaystyle A: \\left[\\begin{matrix}2 i Δt κ & 1\\\\1 & 0\\end{matrix}\\right]$"
      ],
      "text/plain": [
       "<IPython.core.display.Math object>"
      ]
     },
     "metadata": {},
     "output_type": "display_data"
    },
    {
     "name": "stdout",
     "output_type": "stream",
     "text": [
      "\n"
     ]
    },
    {
     "data": {
      "text/latex": [
       "$\\displaystyle \\operatorname{PurePoly}{\\left( \\lambda^{2} -  2 i Δt κ \\lambda - 1, \\lambda, domain=\\mathbb{Z}\\left[i, Δt, κ\\right] \\right)}$"
      ],
      "text/plain": [
       "PurePoly(lambda**2 - 2*i*Δt*κ*lambda - 1, lambda, domain='ZZ[i,Δt,κ]')"
      ]
     },
     "metadata": {},
     "output_type": "display_data"
    },
    {
     "name": "stdout",
     "output_type": "stream",
     "text": [
      "\n",
      "The two eigenvalues are:\n"
     ]
    },
    {
     "data": {
      "text/latex": [
       "$\\displaystyle i Δt κ - \\sqrt{i^{2} Δt^{2} κ^{2} + 1}$"
      ],
      "text/plain": [
       "            _______________\n",
       "           ╱  2   2  2     \n",
       "i⋅Δt⋅κ - ╲╱  i ⋅Δt ⋅κ  + 1 "
      ]
     },
     "metadata": {},
     "output_type": "display_data"
    },
    {
     "data": {
      "text/latex": [
       "$\\displaystyle i Δt κ + \\sqrt{i^{2} Δt^{2} κ^{2} + 1}$"
      ],
      "text/plain": [
       "            _______________\n",
       "           ╱  2   2  2     \n",
       "i⋅Δt⋅κ + ╲╱  i ⋅Δt ⋅κ  + 1 "
      ]
     },
     "metadata": {},
     "output_type": "display_data"
    }
   ],
   "source": [
    "#LEAPFROG TEST to make sure SymPy works. This equation set comes from Durran's book, Chapter 4, page 151\n",
    "κ, i, Δt = sympy.var('κ, i, Δt')  #\n",
    "A=Matrix([[2*i*κ*Δt, 1],[1, 0]])\n",
    "display(Math(\"A: \" + latex(A)))\n",
    "print()\n",
    "display(A.charpoly())\n",
    "print()\n",
    "Solutions=roots(A.charpoly(simplify=fu))\n",
    "print(\"The two eigenvalues are:\")\n",
    "for root in Solutions:\n",
    "        display(root)"
   ]
  },
  {
   "cell_type": "code",
   "execution_count": 3,
   "id": "be1127b5-6d2a-41ee-8c7c-3606811422fe",
   "metadata": {},
   "outputs": [
    {
     "data": {
      "text/latex": [
       "$\\displaystyle A: \\left[\\begin{matrix}- r & - b α\\\\γ & r\\end{matrix}\\right]$"
      ],
      "text/plain": [
       "<IPython.core.display.Math object>"
      ]
     },
     "metadata": {},
     "output_type": "display_data"
    },
    {
     "name": "stdout",
     "output_type": "stream",
     "text": [
      "\n",
      "Solutions using the method of computing the characteristic polynomial of A:\n"
     ]
    },
    {
     "data": {
      "text/latex": [
       "$\\displaystyle \\operatorname{PurePoly}{\\left( \\lambda^{2} + b α γ - r^{2}, \\lambda, domain=\\mathbb{Z}\\left[r, b, α, γ\\right] \\right)}$"
      ],
      "text/plain": [
       "PurePoly(lambda**2 + b*α*γ - r**2, lambda, domain='ZZ[r,b,α,γ]')"
      ]
     },
     "metadata": {},
     "output_type": "display_data"
    },
    {
     "name": "stdout",
     "output_type": "stream",
     "text": [
      "\n"
     ]
    },
    {
     "data": {
      "text/latex": [
       "$\\displaystyle The ~two ~eigenvalues ~are: ~\\left\\{ - \\sqrt{- b α γ + r^{2}} : 1, \\  \\sqrt{- b α γ + r^{2}} : 1\\right\\}$"
      ],
      "text/plain": [
       "<IPython.core.display.Math object>"
      ]
     },
     "metadata": {},
     "output_type": "display_data"
    },
    {
     "name": "stdout",
     "output_type": "stream",
     "text": [
      "\n",
      "After substituting values for the neutral case:\n"
     ]
    },
    {
     "data": {
      "text/latex": [
       "$\\displaystyle λ_{pos}: 0.306186217847897 i$"
      ],
      "text/plain": [
       "<IPython.core.display.Math object>"
      ]
     },
     "metadata": {},
     "output_type": "display_data"
    },
    {
     "data": {
      "text/latex": [
       "$\\displaystyle λ_{neg}: - 0.306186217847897 i$"
      ],
      "text/plain": [
       "<IPython.core.display.Math object>"
      ]
     },
     "metadata": {},
     "output_type": "display_data"
    }
   ],
   "source": [
    "# ANALYTIC SOLUTIONS\n",
    "λ, R, Δt, γ, α, b, r = sympy.var('λ, R, Δt, γ, α, b, r')  #\n",
    "A=Matrix([[-r, -α * b],[γ, r]])\n",
    "display(Math(\"A: \" + latex(A)))\n",
    "print()\n",
    "\n",
    "#I=eye(2)\n",
    "#M=A-(I*λ)\n",
    "#display('Matrix M: ', Math(latex(M)))\n",
    "#detM=M.det()\n",
    "#Solution=solve(detM,λ)\n",
    "#print(\"The M two solutions for λ are: \")\n",
    "#display(Solution)\n",
    "#print()\n",
    "\n",
    "print('Solutions using the method of computing the characteristic polynomial of A:')\n",
    "display(A.charpoly())\n",
    "print()\n",
    "\n",
    "sol=[0,0]\n",
    "Solutions=roots(A.charpoly(simplify=fu))\n",
    "display(Math(\"The ~two ~eigenvalues ~are: ~\" + latex(Solutions)))\n",
    "for i,root in enumerate(Solutions):\n",
    "        #display(root)\n",
    "        sol[i]=root\n",
    "\n",
    "lamda_plus=sol[1]\n",
    "lamda_minus=sol[0]\n",
    "\n",
    "b_0=2.5\n",
    "γ_par=0.75\n",
    "μ_par=2./3.\n",
    "b_par=b_0*μ_par\n",
    "c_par=1\n",
    "R_par=γ_par*b_par-c_par\n",
    "r_par=0.25\n",
    "α_par=0.125\n",
    "\n",
    "print()\n",
    "print(\"After substituting values for the neutral case:\")\n",
    "l_p=lamda_plus.subs({R:R_par,b:b_par,α:α_par,r:r_par,γ:γ_par})\n",
    "l_m=lamda_minus.subs({R:R_par,b:b_par,α:α_par,r:r_par,γ:γ_par})\n",
    "display(Math(\"λ_{pos}: \"+latex(l_p)))\n",
    "display(Math(\"λ_{neg}: \"+latex(l_m)))"
   ]
  },
  {
   "cell_type": "code",
   "execution_count": 4,
   "id": "87078a47-761e-4916-917f-dbb825b9529a",
   "metadata": {},
   "outputs": [
    {
     "data": {
      "text/latex": [
       "$\\displaystyle Matrix ~M: ~\\left[\\begin{matrix}- r & - b α\\\\γ & r\\end{matrix}\\right]$"
      ],
      "text/plain": [
       "<IPython.core.display.Math object>"
      ]
     },
     "metadata": {},
     "output_type": "display_data"
    },
    {
     "name": "stdout",
     "output_type": "stream",
     "text": [
      "\n"
     ]
    },
    {
     "data": {
      "text/latex": [
       "$\\displaystyle Amplification ~matrix ~A: ~\\left[\\begin{matrix}- r Δt + 1 & - b Δt α\\\\Δt γ & r Δt + 1\\end{matrix}\\right]$"
      ],
      "text/plain": [
       "<IPython.core.display.Math object>"
      ]
     },
     "metadata": {},
     "output_type": "display_data"
    },
    {
     "name": "stdout",
     "output_type": "stream",
     "text": [
      "\n"
     ]
    },
    {
     "data": {
      "text/latex": [
       "$\\displaystyle The ~determinant ~of ~A ~is: ~b Δt^{2} α γ - r^{2} Δt^{2} + 1$"
      ],
      "text/plain": [
       "<IPython.core.display.Math object>"
      ]
     },
     "metadata": {},
     "output_type": "display_data"
    },
    {
     "name": "stdout",
     "output_type": "stream",
     "text": [
      "\n",
      "Solutions using the method of computing the characteristic polynomial of A:\n"
     ]
    },
    {
     "data": {
      "text/latex": [
       "$\\displaystyle \\operatorname{PurePoly}{\\left( \\lambda^{2} - 2 \\lambda + b Δt^{2} α γ - r^{2} Δt^{2} + 1, \\lambda, domain=\\mathbb{Z}\\left[r, b, Δt, α, γ\\right] \\right)}$"
      ],
      "text/plain": [
       "PurePoly(lambda**2 - 2*lambda + b*Δt**2*α*γ - r**2*Δt**2 + 1, lambda, domain=' ↪\n",
       "\n",
       "↪ ZZ[r,b,Δt,α,γ]')"
      ]
     },
     "metadata": {},
     "output_type": "display_data"
    },
    {
     "name": "stdout",
     "output_type": "stream",
     "text": [
      "\n"
     ]
    },
    {
     "data": {
      "text/latex": [
       "$\\displaystyle The ~two ~eigenvalues ~are: ~\\left\\{ - Δt \\sqrt{- b α γ + r^{2}} + 1 : 1, \\  Δt \\sqrt{- b α γ + r^{2}} + 1 : 1\\right\\}$"
      ],
      "text/plain": [
       "<IPython.core.display.Math object>"
      ]
     },
     "metadata": {},
     "output_type": "display_data"
    },
    {
     "name": "stdout",
     "output_type": "stream",
     "text": [
      "After substituting values for the neutral case:\n"
     ]
    },
    {
     "data": {
      "text/latex": [
       "$\\displaystyle λ_{pos}: 0.306186217847897 i Δt + 1$"
      ],
      "text/plain": [
       "<IPython.core.display.Math object>"
      ]
     },
     "metadata": {},
     "output_type": "display_data"
    },
    {
     "data": {
      "text/latex": [
       "$\\displaystyle λ_{neg}: - 0.306186217847897 i Δt + 1$"
      ],
      "text/plain": [
       "<IPython.core.display.Math object>"
      ]
     },
     "metadata": {},
     "output_type": "display_data"
    },
    {
     "name": "stdout",
     "output_type": "stream",
     "text": [
      "\n",
      "After substituting for even a small Δt and computing the norm:\n"
     ]
    },
    {
     "data": {
      "text/latex": [
       "$\\displaystyle 1.00000000046875$"
      ],
      "text/plain": [
       "1.00000000046875"
      ]
     },
     "metadata": {},
     "output_type": "display_data"
    },
    {
     "data": {
      "text/latex": [
       "$\\displaystyle 1.00000000046875$"
      ],
      "text/plain": [
       "1.00000000046875"
      ]
     },
     "metadata": {},
     "output_type": "display_data"
    }
   ],
   "source": [
    "# EULER SCHEME\n",
    "λ, R, Δt, γ, α, b, r = sympy.var('λ, R, Δt, γ, α, b, r')  #\n",
    "M=Matrix([[-r, -α * b],[γ, r]])\n",
    "display(Math(\"Matrix ~M: ~\" + latex(M)))\n",
    "print()\n",
    "\n",
    "I=eye(2)\n",
    "A=I+Δt*M\n",
    "display(Math(\"Amplification ~matrix ~A: ~\" + latex(A)))\n",
    "print()\n",
    "\n",
    "detA = A.det()\n",
    "display(Math(\"The ~determinant ~of ~A ~is: ~\" + latex(detA)))\n",
    "print()\n",
    "\n",
    "print('Solutions using the method of computing the characteristic polynomial of A:')\n",
    "display(A.charpoly())\n",
    "print()\n",
    "\n",
    "Solutions=roots(A.charpoly(simplify=fu))\n",
    "display(Math(\"The ~two ~eigenvalues ~are: ~\" + latex(Solutions)))\n",
    "sol=[0,0]\n",
    "for i,root in enumerate(Solutions):\n",
    "        #display(root,abs(root))\n",
    "        sol[i]=root\n",
    "    \n",
    "lamda_plus=sol[1]\n",
    "lamda_minus=sol[0]\n",
    "\n",
    "l_p=lamda_plus.subs({R:R_par,b:b_par,α:α_par,r:r_par,γ:γ_par})\n",
    "l_m=lamda_minus.subs({R:R_par,b:b_par,α:α_par,r:r_par,γ:γ_par})\n",
    "print(\"After substituting values for the neutral case:\")\n",
    "display(Math(\"λ_{pos}: \"+latex(l_p)))\n",
    "display(Math(\"λ_{neg}: \"+latex(l_m)))\n",
    "print()\n",
    "\n",
    "print(\"After substituting for even a small Δt and computing the norm:\")\n",
    "l_p=l_p.subs({Δt:1/10000})\n",
    "l_m=l_m.subs({Δt:1/10000})\n",
    "display(simplify(sqrt((l_p*conjugate(l_p)))))\n",
    "display(simplify(sqrt((l_m*conjugate(l_m)))))"
   ]
  },
  {
   "cell_type": "code",
   "execution_count": 5,
   "id": "507d0a69-6ab4-4fdf-a827-bd0c7df53f81",
   "metadata": {},
   "outputs": [
    {
     "data": {
      "text/latex": [
       "$\\displaystyle Matrix ~M: ~\\left[\\begin{matrix}r & b α\\\\- γ & - r\\end{matrix}\\right]$"
      ],
      "text/plain": [
       "<IPython.core.display.Math object>"
      ]
     },
     "metadata": {},
     "output_type": "display_data"
    },
    {
     "name": "stdout",
     "output_type": "stream",
     "text": [
      "\n"
     ]
    },
    {
     "data": {
      "text/latex": [
       "$\\displaystyle Amplification ~matrix ~A: \\left[\\begin{matrix}r Δt + 1 & b Δt α\\\\- Δt γ & - r Δt + 1\\end{matrix}\\right]$"
      ],
      "text/plain": [
       "<IPython.core.display.Math object>"
      ]
     },
     "metadata": {},
     "output_type": "display_data"
    },
    {
     "name": "stdout",
     "output_type": "stream",
     "text": [
      "\n"
     ]
    },
    {
     "data": {
      "text/latex": [
       "$\\displaystyle Amplification ~matrix ~AI: \\left[\\begin{matrix}- r Δt + 1 & - b Δt α\\\\Δt γ & r Δt + 1\\end{matrix}\\right]$"
      ],
      "text/plain": [
       "<IPython.core.display.Math object>"
      ]
     },
     "metadata": {},
     "output_type": "display_data"
    },
    {
     "name": "stdout",
     "output_type": "stream",
     "text": [
      "\n",
      "Solutions using the method of computing the characteristic polynomial of AI:\n"
     ]
    },
    {
     "data": {
      "text/latex": [
       "$\\displaystyle \\operatorname{PurePoly}{\\left( \\lambda^{2} - 2 \\lambda + b Δt^{2} α γ - r^{2} Δt^{2} + 1, \\lambda, domain=\\mathbb{Z}\\left[r, b, Δt, α, γ\\right] \\right)}$"
      ],
      "text/plain": [
       "PurePoly(lambda**2 - 2*lambda + b*Δt**2*α*γ - r**2*Δt**2 + 1, lambda, domain=' ↪\n",
       "\n",
       "↪ ZZ[r,b,Δt,α,γ]')"
      ]
     },
     "metadata": {},
     "output_type": "display_data"
    },
    {
     "name": "stdout",
     "output_type": "stream",
     "text": [
      "\n"
     ]
    },
    {
     "data": {
      "text/latex": [
       "$\\displaystyle The ~two ~eigenvalues ~are: ~\\left\\{ - Δt \\sqrt{- b α γ + r^{2}} + 1 : 1, \\  Δt \\sqrt{- b α γ + r^{2}} + 1 : 1\\right\\}$"
      ],
      "text/plain": [
       "<IPython.core.display.Math object>"
      ]
     },
     "metadata": {},
     "output_type": "display_data"
    },
    {
     "name": "stdout",
     "output_type": "stream",
     "text": [
      "After substituting values for the neutral case:\n"
     ]
    },
    {
     "data": {
      "text/latex": [
       "$\\displaystyle λ_{pos}: \\frac{0.306186217847897 i Δt + 1}{0.09375 Δt^{2} + 1}$"
      ],
      "text/plain": [
       "<IPython.core.display.Math object>"
      ]
     },
     "metadata": {},
     "output_type": "display_data"
    },
    {
     "data": {
      "text/latex": [
       "$\\displaystyle λ_{neg}: \\frac{- 0.306186217847897 i Δt + 1}{0.09375 Δt^{2} + 1}$"
      ],
      "text/plain": [
       "<IPython.core.display.Math object>"
      ]
     },
     "metadata": {},
     "output_type": "display_data"
    },
    {
     "name": "stdout",
     "output_type": "stream",
     "text": [
      "\n",
      "After substituting for even a small Δt and computing the norm:\n"
     ]
    },
    {
     "data": {
      "text/latex": [
       "$\\displaystyle 0.99999999953125$"
      ],
      "text/plain": [
       "0.999999999531250"
      ]
     },
     "metadata": {},
     "output_type": "display_data"
    },
    {
     "data": {
      "text/latex": [
       "$\\displaystyle 0.99999999953125$"
      ],
      "text/plain": [
       "0.999999999531250"
      ]
     },
     "metadata": {},
     "output_type": "display_data"
    }
   ],
   "source": [
    "#IMPLICIT (BACKWARD) SCHEME\n",
    "λ, R, Δt, γ, α, b, r = sympy.var('λ, R, Δt, γ, α, b, r')  #\n",
    "#M_PL=Matrix([[1-r*Deltat - lamda, -alpha * b * Deltat],[gamma* Deltat, 1+R* Deltat - lamda]])\n",
    "M=Matrix([[r, α * b],[-γ, -r]])\n",
    "MI=Matrix([[-r, -α * b],[γ, r]])\n",
    "\n",
    "display(Math(\"Matrix ~M: ~\" + latex(M)))\n",
    "print()\n",
    "\n",
    "I=eye(2)\n",
    "A=Δt*M+(I)\n",
    "#AI=Δt*MI+(I)-λ*I\n",
    "AI=Δt*MI+(I)\n",
    "display(Math(\"Amplification ~matrix ~A: \"+ latex(A)))\n",
    "print()\n",
    "\n",
    "display(Math(\"Amplification ~matrix ~AI: \"+ latex(AI)))\n",
    "print()\n",
    "\n",
    "print('Solutions using the method of computing the characteristic polynomial of AI:')\n",
    "display(AI.charpoly())\n",
    "print()\n",
    "\n",
    "Solutions=roots(A.charpoly(simplify=fu))\n",
    "display(Math(\"The ~two ~eigenvalues ~are: ~\" + latex(Solutions)))\n",
    "sol=[0,0]\n",
    "for i,root in enumerate(Solutions):\n",
    "        #display(root,abs(root))\n",
    "        sol[i]=root\n",
    "    \n",
    "lamda_plus=sol[1]/detA\n",
    "lamda_minus=sol[0]/detA\n",
    "\n",
    "l_p=lamda_plus.subs({R:R_par,b:b_par,α:α_par,r:r_par,γ:γ_par})\n",
    "l_m=lamda_minus.subs({R:R_par,b:b_par,α:α_par,r:r_par,γ:γ_par})\n",
    "print(\"After substituting values for the neutral case:\")\n",
    "display(Math(\"λ_{pos}: \"+latex(l_p)))\n",
    "display(Math(\"λ_{neg}: \"+latex(l_m)))\n",
    "print()\n",
    "\n",
    "print(\"After substituting for even a small Δt and computing the norm:\")\n",
    "l_p=l_p.subs({Δt:1/10000})\n",
    "l_m=l_m.subs({Δt:1/10000})\n",
    "display(simplify(sqrt((l_p*conjugate(l_p)))))\n",
    "display(simplify(sqrt((l_m*conjugate(l_m)))))\n",
    "\n",
    "#invA=A.inv()\n",
    "#display(invA)\n",
    "#print()"
   ]
  },
  {
   "cell_type": "markdown",
   "id": "5fd28eaa-0555-4261-a767-bff1a0c43e0f",
   "metadata": {},
   "source": [
    "# EXERCISE:\n",
    "# Now try the very same analysis, albeit setting up the matrix for these methods: 1) Heun, 2) Trapezoidal, 3) Runge-Kutta"
   ]
  },
  {
   "cell_type": "code",
   "execution_count": null,
   "id": "283e94b2-8f50-438b-bbcc-c0579324d132",
   "metadata": {},
   "outputs": [],
   "source": []
  }
 ],
 "metadata": {
  "kernelspec": {
   "display_name": "Python 3 (ipykernel)",
   "language": "python",
   "name": "python3"
  },
  "language_info": {
   "codemirror_mode": {
    "name": "ipython",
    "version": 3
   },
   "file_extension": ".py",
   "mimetype": "text/x-python",
   "name": "python",
   "nbconvert_exporter": "python",
   "pygments_lexer": "ipython3",
   "version": "3.12.8"
  }
 },
 "nbformat": 4,
 "nbformat_minor": 5
}
