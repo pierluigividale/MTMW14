{
 "cells": [
  {
   "cell_type": "code",
   "execution_count": null,
   "metadata": {},
   "outputs": [],
   "source": [
    "import make_lorenz_animation"
   ]
  },
  {
   "cell_type": "markdown",
   "metadata": {},
   "source": [
    "First, let us set up the problem with a low value of $\\rho=2$, so that the fluid will just experience **diffusion, albeit no convection**. All the trajectories collapse to a single attractor."
   ]
  },
  {
   "cell_type": "code",
   "execution_count": null,
   "metadata": {},
   "outputs": [],
   "source": [
    "make_lorenz_animation.lorenz_animation(frames=2500,interval=15,rho_std=2)"
   ]
  },
  {
   "cell_type": "markdown",
   "metadata": {},
   "source": [
    "Next, let us set up the problem with an intermediate value of $\\rho=12$, so that the fluid will experience diffusion, but also **stable convection**. All the trajectories orbit preferentially around to a single attractor."
   ]
  },
  {
   "cell_type": "code",
   "execution_count": null,
   "metadata": {},
   "outputs": [],
   "source": [
    "make_lorenz_animation.lorenz_animation(frames=2500,interval=15,rho_std=12)"
   ]
  },
  {
   "cell_type": "markdown",
   "metadata": {},
   "source": [
    "Finally, let us set up the problem with Lorenz's original value of $\\rho=28$, so that the fluid will experience diffusion, but also intense, **chaotic convection**. Trajectories now orbit around two attractors and there is no telling where any trajectory will end up at any given point. **Chaos**."
   ]
  },
  {
   "cell_type": "code",
   "execution_count": null,
   "metadata": {},
   "outputs": [],
   "source": [
    "make_lorenz_animation.lorenz_animation(frames=2500,interval=15,rho_std=28)"
   ]
  },
  {
   "cell_type": "code",
   "execution_count": null,
   "metadata": {},
   "outputs": [],
   "source": []
  }
 ],
 "metadata": {
  "kernelspec": {
   "display_name": "Python 3 (ipykernel)",
   "language": "python",
   "name": "python3"
  },
  "language_info": {
   "codemirror_mode": {
    "name": "ipython",
    "version": 3
   },
   "file_extension": ".py",
   "mimetype": "text/x-python",
   "name": "python",
   "nbconvert_exporter": "python",
   "pygments_lexer": "ipython3",
   "version": "3.12.8"
  }
 },
 "nbformat": 4,
 "nbformat_minor": 4
}
