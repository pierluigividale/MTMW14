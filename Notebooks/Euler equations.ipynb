{
 "cells": [
  {
   "cell_type": "markdown",
   "metadata": {},
   "source": [
    "# Euler formulas"
   ]
  },
  {
   "cell_type": "markdown",
   "metadata": {},
   "source": [
    "The irrational number $e$ is also known as Euler’s number. It is approximately 2.718281, and is the base of the natural logarithm, ln (this means that, if $x = \\ln y = \\log_e y$, then $e^x = y$. For real input, exp(x) is always positive.\n",
    "\n",
    "For complex arguments, $x = a + ib$, we can write $e^x = e^a e^{ib}$. The first term, $e^a$, is already known (it is the real argument, described above). The second term, $e^{ib}$, is $\\cos b + i \\sin b$, a function with magnitude 1 and a periodic phase.\n",
    "This means that it is possible to understand the stability of a numerical scheme by studying the real part of the complex solution (if $e^a < 1$ we will have decay; if $e^a > 1$ we will have growth), and to analyse its phase behaviour by studying the imaginary part.\n",
    "                                                                                                                    "
   ]
  },
  {
   "cell_type": "code",
   "execution_count": 22,
   "metadata": {
    "collapsed": false
   },
   "outputs": [],
   "source": [
    "%matplotlib inline\n",
    "import pylab as pl\n",
    "#import matplotlib.pyplot as plt\n",
    "import numpy as np\n",
    "#create a complex array xx\n",
    "x = np.linspace(-2*np.pi, 2*np.pi, 100)\n",
    "xx = x + 1j * x[:, np.newaxis] # a + ib over complex plane\n",
    "out = np.exp(xx)"
   ]
  },
  {
   "cell_type": "markdown",
   "metadata": {},
   "source": [
    "## Now we plot the real part of complex array xx, which shows its magnitude:"
   ]
  },
  {
   "cell_type": "code",
   "execution_count": 23,
   "metadata": {
    "collapsed": false
   },
   "outputs": [
    {
     "data": {
      "image/png": "[encoded data removed]",
      "text/plain": [
       "<matplotlib.figure.Figure at 0x10d0dfd10>"
      ]
     },
     "metadata": {},
     "output_type": "display_data"
    }
   ],
   "source": [
    "fig, ax = pl.subplots()\n",
    "pl.imshow(np.abs(out),extent=[-2*np.pi, 2*np.pi, -2*np.pi, 2*np.pi])\n",
    "ax.set_xlabel('Re(xx)')\n",
    "ax.set_ylabel('Im(xx)')\n",
    "pl.title('Magnitude of exp(xx)')\n",
    "pl.colorbar()\n",
    "pl.show()"
   ]
  },
  {
   "cell_type": "markdown",
   "metadata": {},
   "source": [
    "## Now we plot the imaginary part of complex array xx, which shows its the phase angle:"
   ]
  },
  {
   "cell_type": "code",
   "execution_count": 21,
   "metadata": {
    "collapsed": false
   },
   "outputs": [
    {
     "data": {
      "image/png": "[encoded data removed]",
      "text/plain": [
       "<matplotlib.figure.Figure at 0x10d102490>"
      ]
     },
     "metadata": {},
     "output_type": "display_data"
    }
   ],
   "source": [
    "fig, ax = pl.subplots()\n",
    "pl.imshow(np.angle(out),extent=[-2*np.pi, 2*np.pi, -2*np.pi, 2*np.pi])\n",
    "pl.title('Phase (angle) of exp(xx)')\n",
    "ax.set_xlabel('Re(xx)')\n",
    "ax.set_ylabel('Im(xx)')\n",
    "pl.colorbar()\n",
    "pl.show()"
   ]
  },
  {
   "cell_type": "markdown",
   "metadata": {},
   "source": [
    "# Appendix: reference material on complex numbers"
   ]
  },
  {
   "cell_type": "markdown",
   "metadata": {},
   "source": [
    "## Complex Numbers and Wave Representation\n",
    "\n",
    "### Imaginary Numbers\n",
    "\n",
    "These arise from taking roots of negative numbers. The letter $i$ is\n",
    "usually used to denote $i=\\sqrt{-1}$. Roots of quadratic polynomials\n",
    "$az^2+bz+c=0$ are given by:\n",
    "\n",
    "\n",
    "\\begin{equation}\n",
    "z=\\frac{-b \\pm \\sqrt{b^2-4ac}}{2a}\n",
    "\\end{equation}\n",
    "\n",
    "and can be complex if $b^2<4ac$ giving the general complex number:\n",
    "\n",
    "\n",
    "\\begin{equation}\n",
    "z=x+iy\n",
    "\\end{equation}\n",
    "\n",
    "where $x=Re (z)$ is the real part and $y=Im (z)$ is called the imaginary\n",
    "part (although $y$ itself is real).\n",
    "\n",
    "### Polar Form of Complex Numbers\n",
    "\n",
    "Polar coordinates $r$ and $\\theta$ refer to the distance from the\n",
    "origin and the angle anticlockwise from the $x$-axis:\n",
    "\n",
    "\\begin{equation}\n",
    "x=r\\cos\\theta ; y=r\\sin\\theta.\n",
    "\\end{equation}\n",
    "\n",
    "Any complex number can be expressed in this polar form:\n",
    "\n",
    "\\begin{equation}\n",
    "z=x+iy=r(\\cos\\theta+i\\sin\\theta)\n",
    "\\end{equation}\n",
    "\n",
    "### Exponential Form\n",
    "\n",
    "By comparing (Taylor) series expansions of $\\sin\\theta$, $\\cos\\theta$\n",
    "and $e^x$ it is possible to arrive at Euler's formula:\n",
    "\n",
    "\n",
    "\\begin{equation}\n",
    "e^{i\\theta}=\\cos\\theta+i\\sin\\theta\n",
    "\\end{equation}\n",
    "\n",
    "where the complex exponential $e^{i\\theta}$ is defined by the power\n",
    "series of $e^x$ with $x=i\\theta$. Generally any complex number can be\n",
    "written in the form $z=re^{i\\theta}$.\n",
    "\n",
    "### Complex Conjugates\n",
    "\n",
    "The complex conjugate to $z$ is defined by\n",
    "\n",
    "\\begin{equation}\n",
    "z^{*}=x-iy=r(\\cos\\theta-i\\sin\\theta)=re^{-i\\theta}\n",
    "\\end{equation}\n",
    "\n",
    "NOTE: Just put a minus sign in front of any occurence of $i$.\n",
    "\n",
    "### Magnitude of a Complex Number\n",
    "\n",
    "\\begin{equation}\n",
    "|z|^2=z^{*}z=x^2+y^2=r^2\n",
    "\\end{equation}\n",
    "\n",
    "Show this from any of the alternative forms for $z$.\n",
    "\n",
    "### Complex Representation of Waves\n",
    "\n",
    "A sinusoidal wave could be represented by a sine or cosine.\n",
    "$\\phi(x)=\\cos kx$ denotes a cosine wave with wavenumber $k$ or wavelength\n",
    "$\\lambda=2\\pi/k$. A propagating wave can be written as:\n",
    "\n",
    "\\begin{equation}\n",
    "\\phi(x,t)=A\\cos(kx-\\omega t)\n",
    "\\end{equation}\n",
    "\n",
    "where $\\omega$ is the (angular) frequency of the wave and its phase\n",
    "speed is $c=\\omega/k$. We can also define a wavefunction\n",
    "\n",
    "\\begin{equation}\n",
    "\\psi=A e^{i(kx-\\omega t)}.\n",
    "%\\label{psieqn}\n",
    "\\end{equation}\n",
    "\n",
    "The observed wave is always given by the real part of the wavefunction.\n",
    "When $A$, $\\omega$ and $k$ are real numbers then clearly\n",
    "$Re(\\psi)=\\phi$. The complex notation is useful when we consider waves\n",
    "with different phases which can also grow or decay. In this case we\n",
    "can use complex amplitude $A=re^{i\\theta}$ and complex frequency\n",
    "$\\omega=\\omega_r+i\\omega_i$ (note that $k$ is always defined to be\n",
    "real). Substituting into (\\ref{psieqn}) we find:\n",
    "\n",
    "\\begin{equation}\n",
    "\\psi=r e^{i(kx-\\omega_r t+\\theta)} e^{\\omega_i t}.\n",
    "\\end{equation} \n",
    "\n",
    "The amplitude squared of the wave is given by:\n",
    "\n",
    "\n",
    "\\begin{equation}\n",
    "|\\psi|^2=\\psi^{*}\\psi=r^2 e^{2\\omega_i t}.\n",
    "\\end{equation}\n",
    "\n",
    "Now we can see that $r$ and $\\theta$ are the initial wave amplitude\n",
    "and phase (at time $t=0$), $\\omega_r/k$ is the propagation speed of\n",
    "the wave in the $x$-direction and $\\omega_i$ is the exponential\n",
    "growth rate of the wave amplitude. Often the complex form is much\n",
    "easier to use because it is easy to multiply and divide exponential\n",
    "terms.\n",
    "\n",
    "### Discrete Fourier Mode Representation\n",
    "\n",
    "Fourier series are used as an alternative to power series (e.g., a\n",
    "Taylor expansion) for representing functions. They are very useful in\n",
    "describing physical systems which support wave motions (e.g., musical\n",
    "intruments, the atmosphere). For example, a tuning fork vibrates in\n",
    "simple harmonic motion at a single frequency. It generates sound waves\n",
    "which are detected as a {\\em pure tone}. At the ear the wave has the\n",
    "form $\\cos \\omega t$. Other instruments (such as a piano string) emit\n",
    "a {\\em fundamental} note, $\\cos\\omega t$, and its {\\em harmonics} given\n",
    "by $\\cos n\\omega t$ for $n>1$. These are generated by string\n",
    "vibrations with wavelengths fitting exactly $n$ times into twice the\n",
    "length of the string ($L$). The sound wave observed can be described\n",
    "by a sum over all harmonics with differing amplitudes. In general (it\n",
    "will be shown in your Fourier analysis course) for a periodic domain\n",
    "of length $2L$:\n",
    "\n",
    "\n",
    "\\begin{equation}\n",
    "f(x)=\\sum_{n=-\\infty}^{\\infty} c_n e^{in\\pi x/L}\n",
    "%\\label{series}\n",
    "\\end{equation}\n",
    "\n",
    "where each $c_n e^{in\\pi x/L}$ is called a Fourier mode. The Fourier\n",
    "coefficients can be evaluated if $f(x)$ is known:\n",
    "\n",
    "\n",
    "\\begin{equation}\n",
    "c_n=\\frac{1}{2L}\\int_{-L}^{L} f(x) e^{-in\\pi x/L} dx.\n",
    "\\end{equation}\n",
    "\n",
    "In numerical methods it is necessary to {\\em truncate} the Fourier\n",
    "series (\\ref{series}), retaining only harmonics $-N\\le n\\le N$, which\n",
    "introduces truncation errors into the numerical solution."
   ]
  },
  {
   "cell_type": "code",
   "execution_count": null,
   "metadata": {
    "collapsed": true
   },
   "outputs": [],
   "source": []
  }
 ],
 "metadata": {
  "kernelspec": {
   "display_name": "Python [default]",
   "language": "python",
   "name": "python2"
  },
  "language_info": {
   "codemirror_mode": {
    "name": "ipython",
    "version": 2
   },
   "file_extension": ".py",
   "mimetype": "text/x-python",
   "name": "python",
   "nbconvert_exporter": "python",
   "pygments_lexer": "ipython2",
   "version": "2.7.10"
  }
 },
 "nbformat": 4,
 "nbformat_minor": 0
}
